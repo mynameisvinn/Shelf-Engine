{
 "cells": [
  {
   "cell_type": "markdown",
   "metadata": {},
   "source": [
    "# Methods\n",
    "Note: Each section has a corresponding discussion in the attached memo `VinTang_report.pdf`."
   ]
  },
  {
   "cell_type": "markdown",
   "metadata": {},
   "source": [
    "# Section 2.1: Identifying \"Top Selling\" Items\n",
    "We define top selling items as items which had the greatest total sales over this week across all countries."
   ]
  },
  {
   "cell_type": "markdown",
   "metadata": {},
   "source": [
    "## Preparing data\n",
    "Data (totalling 541,909 records) was provided as `Online Retail.csv` and was prepared for further analysis."
   ]
  },
  {
   "cell_type": "code",
   "execution_count": 1,
   "metadata": {},
   "outputs": [],
   "source": [
    "from util import make_predictions\n",
    "\n",
    "from fbprophet import Prophet\n",
    "\n",
    "import time\n",
    "import datetime\n",
    "import numpy as np\n",
    "import matplotlib.pyplot as plt\n",
    "import pandas as pd\n",
    "\n",
    "plt.style.use(\"ggplot\")\n",
    "%matplotlib inline"
   ]
  },
  {
   "cell_type": "code",
   "execution_count": 2,
   "metadata": {},
   "outputs": [
    {
     "data": {
      "text/plain": [
       "(541909, 8)"
      ]
     },
     "execution_count": 2,
     "metadata": {},
     "output_type": "execute_result"
    }
   ],
   "source": [
    "df = pd.read_csv(\"data/Online Retail.csv\", encoding = \"ISO-8859-1\")\n",
    "df.shape"
   ]
  },
  {
   "cell_type": "code",
   "execution_count": 3,
   "metadata": {},
   "outputs": [
    {
     "name": "stdout",
     "output_type": "stream",
     "text": [
      "number of cancelled invoices:  9288\n"
     ]
    }
   ],
   "source": [
    "# remove cancelled invoices, which are invoices where InvoiceNo starts with the letter \"C\"\n",
    "df['cancelled'] = df.apply(lambda row: str(row.InvoiceNo)[0] == \"C\", axis=1) \n",
    "print(\"number of cancelled invoices: \", np.sum(df['cancelled']))\n",
    "\n",
    "df = df[df['cancelled'] == False]"
   ]
  },
  {
   "cell_type": "code",
   "execution_count": 4,
   "metadata": {},
   "outputs": [],
   "source": [
    "# create a \"revenue\" column so we can identify best selling items for a given range\n",
    "df['revenue'] = df.apply(lambda row: row.Quantity * row.UnitPrice, axis=1) "
   ]
  },
  {
   "cell_type": "code",
   "execution_count": 6,
   "metadata": {},
   "outputs": [
    {
     "data": {
      "text/html": [
       "<div>\n",
       "<style scoped>\n",
       "    .dataframe tbody tr th:only-of-type {\n",
       "        vertical-align: middle;\n",
       "    }\n",
       "\n",
       "    .dataframe tbody tr th {\n",
       "        vertical-align: top;\n",
       "    }\n",
       "\n",
       "    .dataframe thead th {\n",
       "        text-align: right;\n",
       "    }\n",
       "</style>\n",
       "<table border=\"1\" class=\"dataframe\">\n",
       "  <thead>\n",
       "    <tr style=\"text-align: right;\">\n",
       "      <th></th>\n",
       "      <th>InvoiceNo</th>\n",
       "      <th>StockCode</th>\n",
       "      <th>Description</th>\n",
       "      <th>Quantity</th>\n",
       "      <th>InvoiceDate</th>\n",
       "      <th>UnitPrice</th>\n",
       "      <th>CustomerID</th>\n",
       "      <th>Country</th>\n",
       "      <th>cancelled</th>\n",
       "      <th>revenue</th>\n",
       "      <th>datestring</th>\n",
       "      <th>datetime</th>\n",
       "    </tr>\n",
       "  </thead>\n",
       "  <tbody>\n",
       "    <tr>\n",
       "      <th>0</th>\n",
       "      <td>536365</td>\n",
       "      <td>85123A</td>\n",
       "      <td>WHITE HANGING HEART T-LIGHT HOLDER</td>\n",
       "      <td>6</td>\n",
       "      <td>12/1/10 8:26</td>\n",
       "      <td>2.55</td>\n",
       "      <td>17850.0</td>\n",
       "      <td>United Kingdom</td>\n",
       "      <td>False</td>\n",
       "      <td>15.30</td>\n",
       "      <td>12/1/10</td>\n",
       "      <td>2010-12-01</td>\n",
       "    </tr>\n",
       "    <tr>\n",
       "      <th>1</th>\n",
       "      <td>536365</td>\n",
       "      <td>71053</td>\n",
       "      <td>WHITE METAL LANTERN</td>\n",
       "      <td>6</td>\n",
       "      <td>12/1/10 8:26</td>\n",
       "      <td>3.39</td>\n",
       "      <td>17850.0</td>\n",
       "      <td>United Kingdom</td>\n",
       "      <td>False</td>\n",
       "      <td>20.34</td>\n",
       "      <td>12/1/10</td>\n",
       "      <td>2010-12-01</td>\n",
       "    </tr>\n",
       "    <tr>\n",
       "      <th>2</th>\n",
       "      <td>536365</td>\n",
       "      <td>84406B</td>\n",
       "      <td>CREAM CUPID HEARTS COAT HANGER</td>\n",
       "      <td>8</td>\n",
       "      <td>12/1/10 8:26</td>\n",
       "      <td>2.75</td>\n",
       "      <td>17850.0</td>\n",
       "      <td>United Kingdom</td>\n",
       "      <td>False</td>\n",
       "      <td>22.00</td>\n",
       "      <td>12/1/10</td>\n",
       "      <td>2010-12-01</td>\n",
       "    </tr>\n",
       "    <tr>\n",
       "      <th>3</th>\n",
       "      <td>536365</td>\n",
       "      <td>84029G</td>\n",
       "      <td>KNITTED UNION FLAG HOT WATER BOTTLE</td>\n",
       "      <td>6</td>\n",
       "      <td>12/1/10 8:26</td>\n",
       "      <td>3.39</td>\n",
       "      <td>17850.0</td>\n",
       "      <td>United Kingdom</td>\n",
       "      <td>False</td>\n",
       "      <td>20.34</td>\n",
       "      <td>12/1/10</td>\n",
       "      <td>2010-12-01</td>\n",
       "    </tr>\n",
       "    <tr>\n",
       "      <th>4</th>\n",
       "      <td>536365</td>\n",
       "      <td>84029E</td>\n",
       "      <td>RED WOOLLY HOTTIE WHITE HEART.</td>\n",
       "      <td>6</td>\n",
       "      <td>12/1/10 8:26</td>\n",
       "      <td>3.39</td>\n",
       "      <td>17850.0</td>\n",
       "      <td>United Kingdom</td>\n",
       "      <td>False</td>\n",
       "      <td>20.34</td>\n",
       "      <td>12/1/10</td>\n",
       "      <td>2010-12-01</td>\n",
       "    </tr>\n",
       "  </tbody>\n",
       "</table>\n",
       "</div>"
      ],
      "text/plain": [
       "  InvoiceNo StockCode                          Description  Quantity  \\\n",
       "0    536365    85123A   WHITE HANGING HEART T-LIGHT HOLDER         6   \n",
       "1    536365     71053                  WHITE METAL LANTERN         6   \n",
       "2    536365    84406B       CREAM CUPID HEARTS COAT HANGER         8   \n",
       "3    536365    84029G  KNITTED UNION FLAG HOT WATER BOTTLE         6   \n",
       "4    536365    84029E       RED WOOLLY HOTTIE WHITE HEART.         6   \n",
       "\n",
       "    InvoiceDate  UnitPrice  CustomerID         Country  cancelled  revenue  \\\n",
       "0  12/1/10 8:26       2.55     17850.0  United Kingdom      False    15.30   \n",
       "1  12/1/10 8:26       3.39     17850.0  United Kingdom      False    20.34   \n",
       "2  12/1/10 8:26       2.75     17850.0  United Kingdom      False    22.00   \n",
       "3  12/1/10 8:26       3.39     17850.0  United Kingdom      False    20.34   \n",
       "4  12/1/10 8:26       3.39     17850.0  United Kingdom      False    20.34   \n",
       "\n",
       "  datestring   datetime  \n",
       "0    12/1/10 2010-12-01  \n",
       "1    12/1/10 2010-12-01  \n",
       "2    12/1/10 2010-12-01  \n",
       "3    12/1/10 2010-12-01  \n",
       "4    12/1/10 2010-12-01  "
      ]
     },
     "execution_count": 6,
     "metadata": {},
     "output_type": "execute_result"
    }
   ],
   "source": [
    "df.head()"
   ]
  },
  {
   "cell_type": "code",
   "execution_count": 40,
   "metadata": {},
   "outputs": [],
   "source": [
    "# create a date column so we can identify best selling items for a given range\n",
    "df[\"datestring\"] = df.apply(lambda row: row.InvoiceDate.split(\" \")[0], axis=1) \n",
    "df['datetime'] = pd.to_datetime(df['datestring'])"
   ]
  },
  {
   "cell_type": "code",
   "execution_count": 9,
   "metadata": {},
   "outputs": [
    {
     "data": {
      "text/html": [
       "<div>\n",
       "<style scoped>\n",
       "    .dataframe tbody tr th:only-of-type {\n",
       "        vertical-align: middle;\n",
       "    }\n",
       "\n",
       "    .dataframe tbody tr th {\n",
       "        vertical-align: top;\n",
       "    }\n",
       "\n",
       "    .dataframe thead th {\n",
       "        text-align: right;\n",
       "    }\n",
       "</style>\n",
       "<table border=\"1\" class=\"dataframe\">\n",
       "  <thead>\n",
       "    <tr style=\"text-align: right;\">\n",
       "      <th></th>\n",
       "      <th>InvoiceNo</th>\n",
       "      <th>StockCode</th>\n",
       "      <th>Description</th>\n",
       "      <th>Quantity</th>\n",
       "      <th>InvoiceDate</th>\n",
       "      <th>UnitPrice</th>\n",
       "      <th>CustomerID</th>\n",
       "      <th>Country</th>\n",
       "      <th>cancelled</th>\n",
       "      <th>revenue</th>\n",
       "      <th>datestring</th>\n",
       "      <th>datetime</th>\n",
       "      <th>timestamp</th>\n",
       "      <th>year</th>\n",
       "      <th>month</th>\n",
       "      <th>day</th>\n",
       "      <th>dayofweek</th>\n",
       "      <th>dayofyear</th>\n",
       "      <th>weekofyear</th>\n",
       "      <th>quarter</th>\n",
       "    </tr>\n",
       "  </thead>\n",
       "  <tbody>\n",
       "    <tr>\n",
       "      <th>0</th>\n",
       "      <td>536365</td>\n",
       "      <td>85123A</td>\n",
       "      <td>WHITE HANGING HEART T-LIGHT HOLDER</td>\n",
       "      <td>6</td>\n",
       "      <td>12/1/10 8:26</td>\n",
       "      <td>2.55</td>\n",
       "      <td>17850.0</td>\n",
       "      <td>United Kingdom</td>\n",
       "      <td>False</td>\n",
       "      <td>15.30</td>\n",
       "      <td>12/1/10</td>\n",
       "      <td>2010-12-01</td>\n",
       "      <td>1.291180e+09</td>\n",
       "      <td>2010</td>\n",
       "      <td>12</td>\n",
       "      <td>1</td>\n",
       "      <td>2</td>\n",
       "      <td>335</td>\n",
       "      <td>48</td>\n",
       "      <td>4</td>\n",
       "    </tr>\n",
       "    <tr>\n",
       "      <th>1</th>\n",
       "      <td>536365</td>\n",
       "      <td>71053</td>\n",
       "      <td>WHITE METAL LANTERN</td>\n",
       "      <td>6</td>\n",
       "      <td>12/1/10 8:26</td>\n",
       "      <td>3.39</td>\n",
       "      <td>17850.0</td>\n",
       "      <td>United Kingdom</td>\n",
       "      <td>False</td>\n",
       "      <td>20.34</td>\n",
       "      <td>12/1/10</td>\n",
       "      <td>2010-12-01</td>\n",
       "      <td>1.291180e+09</td>\n",
       "      <td>2010</td>\n",
       "      <td>12</td>\n",
       "      <td>1</td>\n",
       "      <td>2</td>\n",
       "      <td>335</td>\n",
       "      <td>48</td>\n",
       "      <td>4</td>\n",
       "    </tr>\n",
       "    <tr>\n",
       "      <th>2</th>\n",
       "      <td>536365</td>\n",
       "      <td>84406B</td>\n",
       "      <td>CREAM CUPID HEARTS COAT HANGER</td>\n",
       "      <td>8</td>\n",
       "      <td>12/1/10 8:26</td>\n",
       "      <td>2.75</td>\n",
       "      <td>17850.0</td>\n",
       "      <td>United Kingdom</td>\n",
       "      <td>False</td>\n",
       "      <td>22.00</td>\n",
       "      <td>12/1/10</td>\n",
       "      <td>2010-12-01</td>\n",
       "      <td>1.291180e+09</td>\n",
       "      <td>2010</td>\n",
       "      <td>12</td>\n",
       "      <td>1</td>\n",
       "      <td>2</td>\n",
       "      <td>335</td>\n",
       "      <td>48</td>\n",
       "      <td>4</td>\n",
       "    </tr>\n",
       "    <tr>\n",
       "      <th>3</th>\n",
       "      <td>536365</td>\n",
       "      <td>84029G</td>\n",
       "      <td>KNITTED UNION FLAG HOT WATER BOTTLE</td>\n",
       "      <td>6</td>\n",
       "      <td>12/1/10 8:26</td>\n",
       "      <td>3.39</td>\n",
       "      <td>17850.0</td>\n",
       "      <td>United Kingdom</td>\n",
       "      <td>False</td>\n",
       "      <td>20.34</td>\n",
       "      <td>12/1/10</td>\n",
       "      <td>2010-12-01</td>\n",
       "      <td>1.291180e+09</td>\n",
       "      <td>2010</td>\n",
       "      <td>12</td>\n",
       "      <td>1</td>\n",
       "      <td>2</td>\n",
       "      <td>335</td>\n",
       "      <td>48</td>\n",
       "      <td>4</td>\n",
       "    </tr>\n",
       "    <tr>\n",
       "      <th>4</th>\n",
       "      <td>536365</td>\n",
       "      <td>84029E</td>\n",
       "      <td>RED WOOLLY HOTTIE WHITE HEART.</td>\n",
       "      <td>6</td>\n",
       "      <td>12/1/10 8:26</td>\n",
       "      <td>3.39</td>\n",
       "      <td>17850.0</td>\n",
       "      <td>United Kingdom</td>\n",
       "      <td>False</td>\n",
       "      <td>20.34</td>\n",
       "      <td>12/1/10</td>\n",
       "      <td>2010-12-01</td>\n",
       "      <td>1.291180e+09</td>\n",
       "      <td>2010</td>\n",
       "      <td>12</td>\n",
       "      <td>1</td>\n",
       "      <td>2</td>\n",
       "      <td>335</td>\n",
       "      <td>48</td>\n",
       "      <td>4</td>\n",
       "    </tr>\n",
       "  </tbody>\n",
       "</table>\n",
       "</div>"
      ],
      "text/plain": [
       "  InvoiceNo StockCode                          Description  Quantity  \\\n",
       "0    536365    85123A   WHITE HANGING HEART T-LIGHT HOLDER         6   \n",
       "1    536365     71053                  WHITE METAL LANTERN         6   \n",
       "2    536365    84406B       CREAM CUPID HEARTS COAT HANGER         8   \n",
       "3    536365    84029G  KNITTED UNION FLAG HOT WATER BOTTLE         6   \n",
       "4    536365    84029E       RED WOOLLY HOTTIE WHITE HEART.         6   \n",
       "\n",
       "    InvoiceDate  UnitPrice  CustomerID         Country  cancelled  revenue  \\\n",
       "0  12/1/10 8:26       2.55     17850.0  United Kingdom      False    15.30   \n",
       "1  12/1/10 8:26       3.39     17850.0  United Kingdom      False    20.34   \n",
       "2  12/1/10 8:26       2.75     17850.0  United Kingdom      False    22.00   \n",
       "3  12/1/10 8:26       3.39     17850.0  United Kingdom      False    20.34   \n",
       "4  12/1/10 8:26       3.39     17850.0  United Kingdom      False    20.34   \n",
       "\n",
       "  datestring   datetime     timestamp  year  month  day  dayofweek  dayofyear  \\\n",
       "0    12/1/10 2010-12-01  1.291180e+09  2010     12    1          2        335   \n",
       "1    12/1/10 2010-12-01  1.291180e+09  2010     12    1          2        335   \n",
       "2    12/1/10 2010-12-01  1.291180e+09  2010     12    1          2        335   \n",
       "3    12/1/10 2010-12-01  1.291180e+09  2010     12    1          2        335   \n",
       "4    12/1/10 2010-12-01  1.291180e+09  2010     12    1          2        335   \n",
       "\n",
       "   weekofyear  quarter  \n",
       "0          48        4  \n",
       "1          48        4  \n",
       "2          48        4  \n",
       "3          48        4  \n",
       "4          48        4  "
      ]
     },
     "execution_count": 9,
     "metadata": {},
     "output_type": "execute_result"
    }
   ],
   "source": [
    "# define list of attributes required    \n",
    "L = ['year', 'month', 'day', 'dayofweek', 'dayofyear', 'weekofyear', 'quarter']\n",
    "\n",
    "# define generator expression of series, one for each attribute\n",
    "date_gen = (getattr(df['datetime'].dt, i).rename(i) for i in L)\n",
    "\n",
    "# concatenate results and join to original dataframe\n",
    "df = df.join(pd.concat(date_gen, axis=1))\n",
    "df.head()"
   ]
  },
  {
   "cell_type": "code",
   "execution_count": 41,
   "metadata": {},
   "outputs": [],
   "source": [
    "df['mm-yyyy'] = pd.to_datetime(df['datestring']).dt.strftime('%m-%Y')"
   ]
  },
  {
   "cell_type": "markdown",
   "metadata": {},
   "source": [
    "## Identifying Best Selling Items in the desired time period\n",
    "Note: Stockcode ID \"DOT\" refers to postage and not considered inventory."
   ]
  },
  {
   "cell_type": "code",
   "execution_count": 45,
   "metadata": {},
   "outputs": [],
   "source": [
    "# we want best selling items for the period between 11/27/11 and 12/3/11\n",
    "\n",
    "start = \"11/27/11\"\n",
    "end = \"12/3/11\"\n",
    "\n",
    "select = (df['datetime'] >= \"11/27/11\") & (df['datetime'] <= \"12/3/11\")\n",
    "df_small = df[select]"
   ]
  },
  {
   "cell_type": "code",
   "execution_count": 49,
   "metadata": {},
   "outputs": [
    {
     "data": {
      "text/plain": [
       "Text(0, 0.5, 'Revenue')"
      ]
     },
     "execution_count": 49,
     "metadata": {},
     "output_type": "execute_result"
    },
    {
     "data": {
      "image/png": "[encoded data removed]",
      "text/plain": [
       "<Figure size 432x288 with 1 Axes>"
      ]
     },
     "metadata": {
      "needs_background": "light"
     },
     "output_type": "display_data"
    }
   ],
   "source": [
    "qty = df_small.groupby(\"StockCode\")['revenue'].sum().sort_values(ascending=False)[:5]\n",
    "\n",
    "plt.bar(list(qty.index), list(qty.values))\n",
    "plt.title(\"Best Sellers by Stockcode between 11/27/11 through 12/3/11\")\n",
    "plt.xlabel(\"Item\")\n",
    "plt.ylabel(\"Revenue\")"
   ]
  },
  {
   "cell_type": "code",
   "execution_count": 47,
   "metadata": {},
   "outputs": [
    {
     "data": {
      "text/plain": [
       "['23084', '22197', '23582']"
      ]
     },
     "execution_count": 47,
     "metadata": {},
     "output_type": "execute_result"
    }
   ],
   "source": [
    "# return a list of best sellers by stock id over that period\n",
    "best_sellers = list(df_small.groupby(\"StockCode\")['Quantity'].sum().sort_values(ascending=False)[:3].index)\n",
    "best_sellers"
   ]
  },
  {
   "cell_type": "markdown",
   "metadata": {},
   "source": [
    "## A Closer Look at Best Selling Items\n",
    "Let's take a closer look at the three best selling items: 23084, 22197, 23582."
   ]
  },
  {
   "cell_type": "markdown",
   "metadata": {},
   "source": [
    "### Historical Sales for Item 23084"
   ]
  },
  {
   "cell_type": "code",
   "execution_count": 49,
   "metadata": {},
   "outputs": [
    {
     "data": {
      "text/plain": [
       "Text(0, 0.5, 'Quantity')"
      ]
     },
     "execution_count": 49,
     "metadata": {},
     "output_type": "execute_result"
    },
    {
     "data": {
      "image/png": "[encoded data removed]",
      "text/plain": [
       "<Figure size 1296x360 with 1 Axes>"
      ]
     },
     "metadata": {
      "needs_background": "light"
     },
     "output_type": "display_data"
    }
   ],
   "source": [
    "df_23084 = df[df['StockCode'] == '23084']\n",
    "monthly_23084 = df_23084.groupby(\"mm-yyyy\")['Quantity'].sum()\n",
    "\n",
    "f, ax = plt.subplots(figsize=(18,5))\n",
    "plt.bar(list(monthly_23084.index), list(monthly_23084.values))\n",
    "\n",
    "plt.title(\"Historical Monthly Sales for Item 23084\")\n",
    "plt.xlabel(\"Month\")\n",
    "plt.ylabel(\"Quantity\")"
   ]
  },
  {
   "cell_type": "code",
   "execution_count": 173,
   "metadata": {},
   "outputs": [
    {
     "data": {
      "text/plain": [
       "Text(0, 0.5, 'Quantity')"
      ]
     },
     "execution_count": 173,
     "metadata": {},
     "output_type": "execute_result"
    },
    {
     "data": {
      "image/png": "[encoded data removed]",
      "text/plain": [
       "<Figure size 1296x360 with 1 Axes>"
      ]
     },
     "metadata": {
      "needs_background": "light"
     },
     "output_type": "display_data"
    }
   ],
   "source": [
    "df_23084 = df[df['StockCode'] == '23084']\n",
    "monthly_23084 = df_23084.groupby(\"weekofyear\")['Quantity'].sum()\n",
    "\n",
    "f, ax = plt.subplots(figsize=(18,5))\n",
    "plt.bar(list(monthly_23084.index), list(monthly_23084.values))\n",
    "\n",
    "plt.title(\"Historical Weekly Sales for Item 23084\")\n",
    "plt.xlabel(\"Week of Year\")\n",
    "plt.ylabel(\"Quantity\")"
   ]
  },
  {
   "cell_type": "markdown",
   "metadata": {},
   "source": [
    "### Historical Sales for Item 22197\n",
    "There seems to be a quaterly and monthly cycle for item 22197."
   ]
  },
  {
   "cell_type": "code",
   "execution_count": 36,
   "metadata": {},
   "outputs": [
    {
     "data": {
      "text/plain": [
       "Text(0, 0.5, 'Quantity')"
      ]
     },
     "execution_count": 36,
     "metadata": {},
     "output_type": "execute_result"
    },
    {
     "data": {
      "image/png": "[encoded data removed]",
      "text/plain": [
       "<Figure size 1296x360 with 1 Axes>"
      ]
     },
     "metadata": {
      "needs_background": "light"
     },
     "output_type": "display_data"
    }
   ],
   "source": [
    "df_22197 = df[df['StockCode'] == '22197']\n",
    "monthly_22197 = df_22197.groupby(\"quarter\")['Quantity'].sum()\n",
    "\n",
    "f, ax = plt.subplots(figsize=(18,5))\n",
    "plt.bar(list(monthly_22197.index), list(monthly_22197.values))\n",
    "\n",
    "plt.title(\"Historical Quartery Sales for Item 22197\")\n",
    "plt.xlabel(\"Quarter\")\n",
    "plt.ylabel(\"Quantity\")"
   ]
  },
  {
   "cell_type": "code",
   "execution_count": 44,
   "metadata": {},
   "outputs": [
    {
     "data": {
      "text/plain": [
       "Text(0, 0.5, 'Quantity')"
      ]
     },
     "execution_count": 44,
     "metadata": {},
     "output_type": "execute_result"
    },
    {
     "data": {
      "image/png": "[encoded data removed]",
      "text/plain": [
       "<Figure size 1296x360 with 1 Axes>"
      ]
     },
     "metadata": {
      "needs_background": "light"
     },
     "output_type": "display_data"
    }
   ],
   "source": [
    "df_22197 = df[df['StockCode'] == '22197']\n",
    "monthly_22197 = df_22197.groupby(\"mm-yyyy\")['Quantity'].sum()\n",
    "\n",
    "f, ax = plt.subplots(figsize=(18,5))\n",
    "plt.bar(list(monthly_22197.index), list(monthly_22197.values))\n",
    "\n",
    "plt.title(\"Historical Monthly Sales for Item 22197\")\n",
    "plt.xlabel(\"Month\")\n",
    "plt.ylabel(\"Quantity\")"
   ]
  },
  {
   "cell_type": "code",
   "execution_count": 13,
   "metadata": {},
   "outputs": [
    {
     "data": {
      "text/plain": [
       "Text(0, 0.5, 'Quantity')"
      ]
     },
     "execution_count": 13,
     "metadata": {},
     "output_type": "execute_result"
    },
    {
     "data": {
      "image/png": "[encoded data removed]",
      "text/plain": [
       "<Figure size 1296x360 with 1 Axes>"
      ]
     },
     "metadata": {
      "needs_background": "light"
     },
     "output_type": "display_data"
    }
   ],
   "source": [
    "df_22197 = df[df['StockCode'] == '22197']\n",
    "monthly_22197 = df_22197.groupby(\"weekofyear\")['Quantity'].sum()\n",
    "\n",
    "f, ax = plt.subplots(figsize=(18,5))\n",
    "plt.bar(list(monthly_22197.index), list(monthly_22197.values))\n",
    "\n",
    "plt.title(\"Historical Weekly Sales for Item 22197\")\n",
    "plt.xlabel(\"Month\")\n",
    "plt.ylabel(\"Quantity\")"
   ]
  },
  {
   "cell_type": "markdown",
   "metadata": {},
   "source": [
    "### Historical Sales for Item 23582"
   ]
  },
  {
   "cell_type": "code",
   "execution_count": 52,
   "metadata": {},
   "outputs": [
    {
     "data": {
      "text/plain": [
       "Text(0, 0.5, 'Quantity')"
      ]
     },
     "execution_count": 52,
     "metadata": {},
     "output_type": "execute_result"
    },
    {
     "data": {
      "image/png": "[encoded data removed]",
      "text/plain": [
       "<Figure size 432x288 with 1 Axes>"
      ]
     },
     "metadata": {
      "needs_background": "light"
     },
     "output_type": "display_data"
    }
   ],
   "source": [
    "df_23582 = df[df['StockCode'] == '23582']\n",
    "weekly_23582 = df_23582.groupby(\"mm-yyyy\")['Quantity'].sum()\n",
    "\n",
    "plt.bar(weekly_23582.index, weekly_23582.values)\n",
    "plt.title(\"Historical Monthly Sales for Item 23582\")\n",
    "plt.xlabel(\"Month\")\n",
    "plt.ylabel(\"Quantity\")"
   ]
  },
  {
   "cell_type": "code",
   "execution_count": 190,
   "metadata": {},
   "outputs": [
    {
     "data": {
      "text/plain": [
       "Text(0, 0.5, 'Quantity')"
      ]
     },
     "execution_count": 190,
     "metadata": {},
     "output_type": "execute_result"
    },
    {
     "data": {
      "image/png": "[encoded data removed]",
      "text/plain": [
       "<Figure size 432x288 with 1 Axes>"
      ]
     },
     "metadata": {
      "needs_background": "light"
     },
     "output_type": "display_data"
    }
   ],
   "source": [
    "df_23582 = df[df['StockCode'] == '23582']\n",
    "weekly_23582 = df_23582.groupby(\"weekofyear\")['Quantity'].sum()\n",
    "\n",
    "plt.bar(weekly_23582.index, weekly_23582.values)\n",
    "plt.title(\"Historical Weekly Sales for Item 23582\")\n",
    "plt.xlabel(\"Week of Year\")\n",
    "plt.ylabel(\"Quantity\")"
   ]
  },
  {
   "cell_type": "code",
   "execution_count": 228,
   "metadata": {},
   "outputs": [
    {
     "data": {
      "text/plain": [
       "Text(0, 0.5, 'Quantity')"
      ]
     },
     "execution_count": 228,
     "metadata": {},
     "output_type": "execute_result"
    },
    {
     "data": {
      "image/png": "[encoded data removed]",
      "text/plain": [
       "<Figure size 432x288 with 1 Axes>"
      ]
     },
     "metadata": {
      "needs_background": "light"
     },
     "output_type": "display_data"
    }
   ],
   "source": [
    "df_23582 = df[df['StockCode'] == '23582']\n",
    "weekly_23582 = df_23582.groupby(\"dayofyear\")['Quantity'].sum()\n",
    "\n",
    "plt.bar(weekly_23582.index, weekly_23582.values)\n",
    "plt.title(\"Historical Daily Sales for Item 23582\")\n",
    "plt.xlabel(\"Day of Year\")\n",
    "plt.ylabel(\"Quantity\")"
   ]
  },
  {
   "cell_type": "markdown",
   "metadata": {},
   "source": [
    "# Section 2.2 - Forecasting\n",
    "From the provided dataset of historical data, we removed anything beyond the cutoff date of 11/27/11.\n",
    "\n",
    "Build a model that predicts sales quantities for the 7 days from 11/27/2011 - 12/3/2011."
   ]
  },
  {
   "cell_type": "code",
   "execution_count": 134,
   "metadata": {},
   "outputs": [],
   "source": [
    "test_period = ['11/27/11', '11/28/11', '11/29/11', '11/30/11', '12/1/11', '12/2/11']\n",
    "train_df = df[df['datetime'] < \"11/27/11\"]\n",
    "train_base = train_df.sort_values('timestamp')"
   ]
  },
  {
   "cell_type": "markdown",
   "metadata": {},
   "source": [
    "## Forecasting Item 23582\n",
    "When we break out item 23582, we see that UK accounts for the majority of sales.\n",
    "\n",
    "For our time series prediction, we detect weekly cycles not not yearly or seasonal cycles."
   ]
  },
  {
   "cell_type": "code",
   "execution_count": 147,
   "metadata": {},
   "outputs": [
    {
     "data": {
      "text/plain": [
       "(193, 21)"
      ]
     },
     "execution_count": 147,
     "metadata": {},
     "output_type": "execute_result"
    }
   ],
   "source": [
    "train_df = train_base[train_base['StockCode'] == '23582']\n",
    "train_df.shape"
   ]
  },
  {
   "cell_type": "code",
   "execution_count": 148,
   "metadata": {},
   "outputs": [
    {
     "data": {
      "text/plain": [
       "Text(0, 0.5, 'Quantity')"
      ]
     },
     "execution_count": 148,
     "metadata": {},
     "output_type": "execute_result"
    },
    {
     "data": {
      "image/png": "[encoded data removed]",
      "text/plain": [
       "<Figure size 432x288 with 1 Axes>"
      ]
     },
     "metadata": {
      "needs_background": "light"
     },
     "output_type": "display_data"
    }
   ],
   "source": [
    "weekly_23582 = train_df.groupby(\"dayofyear\")['Quantity'].sum()\n",
    "\n",
    "plt.bar(weekly_23582.index, weekly_23582.values)\n",
    "plt.title(\"Historical Weekly Sales for Item 23582\")\n",
    "plt.xlabel(\"Week of Year\")\n",
    "plt.ylabel(\"Quantity\")"
   ]
  },
  {
   "cell_type": "code",
   "execution_count": 149,
   "metadata": {},
   "outputs": [
    {
     "data": {
      "text/html": [
       "<div>\n",
       "<style scoped>\n",
       "    .dataframe tbody tr th:only-of-type {\n",
       "        vertical-align: middle;\n",
       "    }\n",
       "\n",
       "    .dataframe tbody tr th {\n",
       "        vertical-align: top;\n",
       "    }\n",
       "\n",
       "    .dataframe thead th {\n",
       "        text-align: right;\n",
       "    }\n",
       "</style>\n",
       "<table border=\"1\" class=\"dataframe\">\n",
       "  <thead>\n",
       "    <tr style=\"text-align: right;\">\n",
       "      <th>Country</th>\n",
       "      <th>Channel Islands</th>\n",
       "      <th>Finland</th>\n",
       "      <th>France</th>\n",
       "      <th>Germany</th>\n",
       "      <th>Italy</th>\n",
       "      <th>Netherlands</th>\n",
       "      <th>Portugal</th>\n",
       "      <th>United Kingdom</th>\n",
       "    </tr>\n",
       "    <tr>\n",
       "      <th>datetime</th>\n",
       "      <th></th>\n",
       "      <th></th>\n",
       "      <th></th>\n",
       "      <th></th>\n",
       "      <th></th>\n",
       "      <th></th>\n",
       "      <th></th>\n",
       "      <th></th>\n",
       "    </tr>\n",
       "  </thead>\n",
       "  <tbody>\n",
       "    <tr>\n",
       "      <th>2011-10-25</th>\n",
       "      <td>NaN</td>\n",
       "      <td>NaN</td>\n",
       "      <td>NaN</td>\n",
       "      <td>NaN</td>\n",
       "      <td>NaN</td>\n",
       "      <td>NaN</td>\n",
       "      <td>NaN</td>\n",
       "      <td>102.0</td>\n",
       "    </tr>\n",
       "    <tr>\n",
       "      <th>2011-10-26</th>\n",
       "      <td>NaN</td>\n",
       "      <td>NaN</td>\n",
       "      <td>NaN</td>\n",
       "      <td>NaN</td>\n",
       "      <td>NaN</td>\n",
       "      <td>NaN</td>\n",
       "      <td>NaN</td>\n",
       "      <td>112.0</td>\n",
       "    </tr>\n",
       "    <tr>\n",
       "      <th>2011-10-27</th>\n",
       "      <td>NaN</td>\n",
       "      <td>NaN</td>\n",
       "      <td>NaN</td>\n",
       "      <td>NaN</td>\n",
       "      <td>NaN</td>\n",
       "      <td>NaN</td>\n",
       "      <td>NaN</td>\n",
       "      <td>181.0</td>\n",
       "    </tr>\n",
       "    <tr>\n",
       "      <th>2011-10-28</th>\n",
       "      <td>NaN</td>\n",
       "      <td>NaN</td>\n",
       "      <td>NaN</td>\n",
       "      <td>NaN</td>\n",
       "      <td>NaN</td>\n",
       "      <td>NaN</td>\n",
       "      <td>NaN</td>\n",
       "      <td>121.0</td>\n",
       "    </tr>\n",
       "    <tr>\n",
       "      <th>2011-10-30</th>\n",
       "      <td>NaN</td>\n",
       "      <td>NaN</td>\n",
       "      <td>NaN</td>\n",
       "      <td>NaN</td>\n",
       "      <td>NaN</td>\n",
       "      <td>NaN</td>\n",
       "      <td>NaN</td>\n",
       "      <td>37.0</td>\n",
       "    </tr>\n",
       "  </tbody>\n",
       "</table>\n",
       "</div>"
      ],
      "text/plain": [
       "Country     Channel Islands  Finland  France  Germany  Italy  Netherlands  \\\n",
       "datetime                                                                    \n",
       "2011-10-25              NaN      NaN     NaN      NaN    NaN          NaN   \n",
       "2011-10-26              NaN      NaN     NaN      NaN    NaN          NaN   \n",
       "2011-10-27              NaN      NaN     NaN      NaN    NaN          NaN   \n",
       "2011-10-28              NaN      NaN     NaN      NaN    NaN          NaN   \n",
       "2011-10-30              NaN      NaN     NaN      NaN    NaN          NaN   \n",
       "\n",
       "Country     Portugal  United Kingdom  \n",
       "datetime                              \n",
       "2011-10-25       NaN           102.0  \n",
       "2011-10-26       NaN           112.0  \n",
       "2011-10-27       NaN           181.0  \n",
       "2011-10-28       NaN           121.0  \n",
       "2011-10-30       NaN            37.0  "
      ]
     },
     "execution_count": 149,
     "metadata": {},
     "output_type": "execute_result"
    }
   ],
   "source": [
    "p = pd.pivot_table(train_df, index=['datetime'], columns= ['Country'], values='Quantity', aggfunc='sum')\n",
    "p.head()"
   ]
  },
  {
   "cell_type": "code",
   "execution_count": 150,
   "metadata": {},
   "outputs": [
    {
     "name": "stderr",
     "output_type": "stream",
     "text": [
      "INFO:fbprophet:n_changepoints greater than number of observations. Using 2.\n",
      "INFO:fbprophet:n_changepoints greater than number of observations. Using 0.\n",
      "INFO:fbprophet:n_changepoints greater than number of observations. Using 0.\n",
      "INFO:fbprophet:n_changepoints greater than number of observations. Using 21.\n"
     ]
    }
   ],
   "source": [
    "data = {'Date': test_period}\n",
    "\n",
    "for country in p.columns:\n",
    "    try:\n",
    "        x = pd.DataFrame({\"ds\": p.index, \"y\": p[country].values})            \n",
    "        model = Prophet(yearly_seasonality=True, daily_seasonality=False, weekly_seasonality=True)\n",
    "        model.fit(x)\n",
    "        pred = model.predict(pd.DataFrame({\"ds\":test_period}))\n",
    "        data[country] = pred['yhat'].values\n",
    "    except:\n",
    "        data[country] = [0] * len(test_period)\n",
    "pd.DataFrame(data).to_csv(\"./results/23582.csv\")"
   ]
  },
  {
   "cell_type": "markdown",
   "metadata": {},
   "source": [
    "## Item 22197\n",
    "When we break out item 22197, we see there are weekly and seasonal trends, and fit our predictive model accordingly."
   ]
  },
  {
   "cell_type": "code",
   "execution_count": 137,
   "metadata": {},
   "outputs": [
    {
     "data": {
      "text/plain": [
       "(1305, 21)"
      ]
     },
     "execution_count": 137,
     "metadata": {},
     "output_type": "execute_result"
    }
   ],
   "source": [
    "train_df = train_base[train_base['StockCode'] == '22197']\n",
    "train_df.shape"
   ]
  },
  {
   "cell_type": "code",
   "execution_count": 139,
   "metadata": {},
   "outputs": [
    {
     "data": {
      "text/html": [
       "<div>\n",
       "<style scoped>\n",
       "    .dataframe tbody tr th:only-of-type {\n",
       "        vertical-align: middle;\n",
       "    }\n",
       "\n",
       "    .dataframe tbody tr th {\n",
       "        vertical-align: top;\n",
       "    }\n",
       "\n",
       "    .dataframe thead th {\n",
       "        text-align: right;\n",
       "    }\n",
       "</style>\n",
       "<table border=\"1\" class=\"dataframe\">\n",
       "  <thead>\n",
       "    <tr style=\"text-align: right;\">\n",
       "      <th>Country</th>\n",
       "      <th>Belgium</th>\n",
       "      <th>Channel Islands</th>\n",
       "      <th>Cyprus</th>\n",
       "      <th>EIRE</th>\n",
       "      <th>France</th>\n",
       "      <th>Germany</th>\n",
       "      <th>Israel</th>\n",
       "      <th>Italy</th>\n",
       "      <th>Netherlands</th>\n",
       "      <th>Norway</th>\n",
       "      <th>Singapore</th>\n",
       "      <th>Spain</th>\n",
       "      <th>Switzerland</th>\n",
       "      <th>United Kingdom</th>\n",
       "      <th>Unspecified</th>\n",
       "    </tr>\n",
       "    <tr>\n",
       "      <th>datetime</th>\n",
       "      <th></th>\n",
       "      <th></th>\n",
       "      <th></th>\n",
       "      <th></th>\n",
       "      <th></th>\n",
       "      <th></th>\n",
       "      <th></th>\n",
       "      <th></th>\n",
       "      <th></th>\n",
       "      <th></th>\n",
       "      <th></th>\n",
       "      <th></th>\n",
       "      <th></th>\n",
       "      <th></th>\n",
       "      <th></th>\n",
       "    </tr>\n",
       "  </thead>\n",
       "  <tbody>\n",
       "    <tr>\n",
       "      <th>2010-12-01</th>\n",
       "      <td>NaN</td>\n",
       "      <td>NaN</td>\n",
       "      <td>NaN</td>\n",
       "      <td>NaN</td>\n",
       "      <td>NaN</td>\n",
       "      <td>NaN</td>\n",
       "      <td>NaN</td>\n",
       "      <td>NaN</td>\n",
       "      <td>NaN</td>\n",
       "      <td>72.0</td>\n",
       "      <td>NaN</td>\n",
       "      <td>NaN</td>\n",
       "      <td>NaN</td>\n",
       "      <td>199.0</td>\n",
       "      <td>NaN</td>\n",
       "    </tr>\n",
       "    <tr>\n",
       "      <th>2010-12-02</th>\n",
       "      <td>NaN</td>\n",
       "      <td>NaN</td>\n",
       "      <td>NaN</td>\n",
       "      <td>NaN</td>\n",
       "      <td>NaN</td>\n",
       "      <td>NaN</td>\n",
       "      <td>NaN</td>\n",
       "      <td>NaN</td>\n",
       "      <td>NaN</td>\n",
       "      <td>NaN</td>\n",
       "      <td>NaN</td>\n",
       "      <td>NaN</td>\n",
       "      <td>NaN</td>\n",
       "      <td>74.0</td>\n",
       "      <td>NaN</td>\n",
       "    </tr>\n",
       "    <tr>\n",
       "      <th>2010-12-03</th>\n",
       "      <td>NaN</td>\n",
       "      <td>NaN</td>\n",
       "      <td>NaN</td>\n",
       "      <td>NaN</td>\n",
       "      <td>NaN</td>\n",
       "      <td>NaN</td>\n",
       "      <td>NaN</td>\n",
       "      <td>NaN</td>\n",
       "      <td>NaN</td>\n",
       "      <td>NaN</td>\n",
       "      <td>NaN</td>\n",
       "      <td>NaN</td>\n",
       "      <td>NaN</td>\n",
       "      <td>67.0</td>\n",
       "      <td>NaN</td>\n",
       "    </tr>\n",
       "    <tr>\n",
       "      <th>2010-12-05</th>\n",
       "      <td>NaN</td>\n",
       "      <td>NaN</td>\n",
       "      <td>NaN</td>\n",
       "      <td>NaN</td>\n",
       "      <td>NaN</td>\n",
       "      <td>24.0</td>\n",
       "      <td>NaN</td>\n",
       "      <td>NaN</td>\n",
       "      <td>NaN</td>\n",
       "      <td>NaN</td>\n",
       "      <td>NaN</td>\n",
       "      <td>NaN</td>\n",
       "      <td>NaN</td>\n",
       "      <td>57.0</td>\n",
       "      <td>NaN</td>\n",
       "    </tr>\n",
       "    <tr>\n",
       "      <th>2010-12-06</th>\n",
       "      <td>NaN</td>\n",
       "      <td>NaN</td>\n",
       "      <td>NaN</td>\n",
       "      <td>NaN</td>\n",
       "      <td>NaN</td>\n",
       "      <td>NaN</td>\n",
       "      <td>NaN</td>\n",
       "      <td>NaN</td>\n",
       "      <td>NaN</td>\n",
       "      <td>NaN</td>\n",
       "      <td>NaN</td>\n",
       "      <td>NaN</td>\n",
       "      <td>NaN</td>\n",
       "      <td>265.0</td>\n",
       "      <td>NaN</td>\n",
       "    </tr>\n",
       "  </tbody>\n",
       "</table>\n",
       "</div>"
      ],
      "text/plain": [
       "Country     Belgium  Channel Islands  Cyprus  EIRE  France  Germany  Israel  \\\n",
       "datetime                                                                      \n",
       "2010-12-01      NaN              NaN     NaN   NaN     NaN      NaN     NaN   \n",
       "2010-12-02      NaN              NaN     NaN   NaN     NaN      NaN     NaN   \n",
       "2010-12-03      NaN              NaN     NaN   NaN     NaN      NaN     NaN   \n",
       "2010-12-05      NaN              NaN     NaN   NaN     NaN     24.0     NaN   \n",
       "2010-12-06      NaN              NaN     NaN   NaN     NaN      NaN     NaN   \n",
       "\n",
       "Country     Italy  Netherlands  Norway  Singapore  Spain  Switzerland  \\\n",
       "datetime                                                                \n",
       "2010-12-01    NaN          NaN    72.0        NaN    NaN          NaN   \n",
       "2010-12-02    NaN          NaN     NaN        NaN    NaN          NaN   \n",
       "2010-12-03    NaN          NaN     NaN        NaN    NaN          NaN   \n",
       "2010-12-05    NaN          NaN     NaN        NaN    NaN          NaN   \n",
       "2010-12-06    NaN          NaN     NaN        NaN    NaN          NaN   \n",
       "\n",
       "Country     United Kingdom  Unspecified  \n",
       "datetime                                 \n",
       "2010-12-01           199.0          NaN  \n",
       "2010-12-02            74.0          NaN  \n",
       "2010-12-03            67.0          NaN  \n",
       "2010-12-05            57.0          NaN  \n",
       "2010-12-06           265.0          NaN  "
      ]
     },
     "execution_count": 139,
     "metadata": {},
     "output_type": "execute_result"
    }
   ],
   "source": [
    "p = pd.pivot_table(train_df, index=['datetime'], columns= ['Country'], values='Quantity', aggfunc='sum')\n",
    "p.head()"
   ]
  },
  {
   "cell_type": "code",
   "execution_count": 140,
   "metadata": {},
   "outputs": [
    {
     "name": "stderr",
     "output_type": "stream",
     "text": [
      "INFO:fbprophet:n_changepoints greater than number of observations. Using 0.\n",
      "INFO:fbprophet:n_changepoints greater than number of observations. Using 23.\n",
      "INFO:fbprophet:n_changepoints greater than number of observations. Using 15.\n",
      "INFO:fbprophet:n_changepoints greater than number of observations. Using 7.\n",
      "INFO:fbprophet:n_changepoints greater than number of observations. Using 1.\n",
      "INFO:fbprophet:n_changepoints greater than number of observations. Using 1.\n",
      "INFO:fbprophet:n_changepoints greater than number of observations. Using 1.\n",
      "INFO:fbprophet:n_changepoints greater than number of observations. Using 7.\n"
     ]
    }
   ],
   "source": [
    "data = {'Date': test_period}\n",
    "\n",
    "for country in p.columns:\n",
    "    try:\n",
    "        x = pd.DataFrame({\"ds\": p.index, \"y\": p[country].values})            \n",
    "        model = Prophet(yearly_seasonality=True, daily_seasonality=True, weekly_seasonality=False)\n",
    "        model.fit(x)\n",
    "        pred = model.predict(pd.DataFrame({\"ds\":test_period}))\n",
    "        data[country] = pred['yhat'].values\n",
    "    except:\n",
    "        data[country] = [0] * len(test_period)\n",
    "pd.DataFrame(data).to_csv(\"./results/22197.csv\")"
   ]
  },
  {
   "cell_type": "markdown",
   "metadata": {},
   "source": [
    "## Item 23804\n",
    "When we break out item 23804, we see there are weekly and seasonal trends, and fit our predictive model accordingly."
   ]
  },
  {
   "cell_type": "code",
   "execution_count": 106,
   "metadata": {},
   "outputs": [
    {
     "data": {
      "text/plain": [
       "(834, 21)"
      ]
     },
     "execution_count": 106,
     "metadata": {},
     "output_type": "execute_result"
    }
   ],
   "source": [
    "train_df = train_base[train_base['StockCode'] == '23084']\n",
    "train_df.shape"
   ]
  },
  {
   "cell_type": "code",
   "execution_count": 107,
   "metadata": {},
   "outputs": [
    {
     "data": {
      "text/html": [
       "<div>\n",
       "<style scoped>\n",
       "    .dataframe tbody tr th:only-of-type {\n",
       "        vertical-align: middle;\n",
       "    }\n",
       "\n",
       "    .dataframe tbody tr th {\n",
       "        vertical-align: top;\n",
       "    }\n",
       "\n",
       "    .dataframe thead th {\n",
       "        text-align: right;\n",
       "    }\n",
       "</style>\n",
       "<table border=\"1\" class=\"dataframe\">\n",
       "  <thead>\n",
       "    <tr style=\"text-align: right;\">\n",
       "      <th>Country</th>\n",
       "      <th>Australia</th>\n",
       "      <th>Belgium</th>\n",
       "      <th>Denmark</th>\n",
       "      <th>EIRE</th>\n",
       "      <th>Finland</th>\n",
       "      <th>France</th>\n",
       "      <th>Germany</th>\n",
       "      <th>Iceland</th>\n",
       "      <th>Italy</th>\n",
       "      <th>Japan</th>\n",
       "      <th>Netherlands</th>\n",
       "      <th>Norway</th>\n",
       "      <th>Poland</th>\n",
       "      <th>Portugal</th>\n",
       "      <th>Spain</th>\n",
       "      <th>Sweden</th>\n",
       "      <th>Switzerland</th>\n",
       "      <th>United Kingdom</th>\n",
       "      <th>Unspecified</th>\n",
       "    </tr>\n",
       "    <tr>\n",
       "      <th>datetime</th>\n",
       "      <th></th>\n",
       "      <th></th>\n",
       "      <th></th>\n",
       "      <th></th>\n",
       "      <th></th>\n",
       "      <th></th>\n",
       "      <th></th>\n",
       "      <th></th>\n",
       "      <th></th>\n",
       "      <th></th>\n",
       "      <th></th>\n",
       "      <th></th>\n",
       "      <th></th>\n",
       "      <th></th>\n",
       "      <th></th>\n",
       "      <th></th>\n",
       "      <th></th>\n",
       "      <th></th>\n",
       "      <th></th>\n",
       "    </tr>\n",
       "  </thead>\n",
       "  <tbody>\n",
       "    <tr>\n",
       "      <th>2011-11-21</th>\n",
       "      <td>NaN</td>\n",
       "      <td>NaN</td>\n",
       "      <td>NaN</td>\n",
       "      <td>NaN</td>\n",
       "      <td>NaN</td>\n",
       "      <td>48.0</td>\n",
       "      <td>NaN</td>\n",
       "      <td>NaN</td>\n",
       "      <td>NaN</td>\n",
       "      <td>NaN</td>\n",
       "      <td>NaN</td>\n",
       "      <td>NaN</td>\n",
       "      <td>NaN</td>\n",
       "      <td>6.0</td>\n",
       "      <td>NaN</td>\n",
       "      <td>NaN</td>\n",
       "      <td>NaN</td>\n",
       "      <td>95.0</td>\n",
       "      <td>NaN</td>\n",
       "    </tr>\n",
       "    <tr>\n",
       "      <th>2011-11-22</th>\n",
       "      <td>NaN</td>\n",
       "      <td>NaN</td>\n",
       "      <td>NaN</td>\n",
       "      <td>6.0</td>\n",
       "      <td>NaN</td>\n",
       "      <td>84.0</td>\n",
       "      <td>36.0</td>\n",
       "      <td>NaN</td>\n",
       "      <td>NaN</td>\n",
       "      <td>NaN</td>\n",
       "      <td>NaN</td>\n",
       "      <td>NaN</td>\n",
       "      <td>NaN</td>\n",
       "      <td>NaN</td>\n",
       "      <td>NaN</td>\n",
       "      <td>48.0</td>\n",
       "      <td>NaN</td>\n",
       "      <td>493.0</td>\n",
       "      <td>NaN</td>\n",
       "    </tr>\n",
       "    <tr>\n",
       "      <th>2011-11-23</th>\n",
       "      <td>NaN</td>\n",
       "      <td>NaN</td>\n",
       "      <td>NaN</td>\n",
       "      <td>NaN</td>\n",
       "      <td>NaN</td>\n",
       "      <td>10.0</td>\n",
       "      <td>NaN</td>\n",
       "      <td>NaN</td>\n",
       "      <td>NaN</td>\n",
       "      <td>NaN</td>\n",
       "      <td>NaN</td>\n",
       "      <td>NaN</td>\n",
       "      <td>NaN</td>\n",
       "      <td>NaN</td>\n",
       "      <td>NaN</td>\n",
       "      <td>NaN</td>\n",
       "      <td>6.0</td>\n",
       "      <td>395.0</td>\n",
       "      <td>NaN</td>\n",
       "    </tr>\n",
       "    <tr>\n",
       "      <th>2011-11-24</th>\n",
       "      <td>NaN</td>\n",
       "      <td>NaN</td>\n",
       "      <td>NaN</td>\n",
       "      <td>NaN</td>\n",
       "      <td>NaN</td>\n",
       "      <td>12.0</td>\n",
       "      <td>NaN</td>\n",
       "      <td>NaN</td>\n",
       "      <td>NaN</td>\n",
       "      <td>NaN</td>\n",
       "      <td>NaN</td>\n",
       "      <td>NaN</td>\n",
       "      <td>NaN</td>\n",
       "      <td>NaN</td>\n",
       "      <td>NaN</td>\n",
       "      <td>NaN</td>\n",
       "      <td>NaN</td>\n",
       "      <td>228.0</td>\n",
       "      <td>12.0</td>\n",
       "    </tr>\n",
       "    <tr>\n",
       "      <th>2011-11-25</th>\n",
       "      <td>NaN</td>\n",
       "      <td>NaN</td>\n",
       "      <td>NaN</td>\n",
       "      <td>NaN</td>\n",
       "      <td>NaN</td>\n",
       "      <td>174.0</td>\n",
       "      <td>2.0</td>\n",
       "      <td>NaN</td>\n",
       "      <td>NaN</td>\n",
       "      <td>NaN</td>\n",
       "      <td>NaN</td>\n",
       "      <td>NaN</td>\n",
       "      <td>NaN</td>\n",
       "      <td>NaN</td>\n",
       "      <td>NaN</td>\n",
       "      <td>NaN</td>\n",
       "      <td>NaN</td>\n",
       "      <td>371.0</td>\n",
       "      <td>NaN</td>\n",
       "    </tr>\n",
       "  </tbody>\n",
       "</table>\n",
       "</div>"
      ],
      "text/plain": [
       "Country     Australia  Belgium  Denmark  EIRE  Finland  France  Germany  \\\n",
       "datetime                                                                  \n",
       "2011-11-21        NaN      NaN      NaN   NaN      NaN    48.0      NaN   \n",
       "2011-11-22        NaN      NaN      NaN   6.0      NaN    84.0     36.0   \n",
       "2011-11-23        NaN      NaN      NaN   NaN      NaN    10.0      NaN   \n",
       "2011-11-24        NaN      NaN      NaN   NaN      NaN    12.0      NaN   \n",
       "2011-11-25        NaN      NaN      NaN   NaN      NaN   174.0      2.0   \n",
       "\n",
       "Country     Iceland  Italy  Japan  Netherlands  Norway  Poland  Portugal  \\\n",
       "datetime                                                                   \n",
       "2011-11-21      NaN    NaN    NaN          NaN     NaN     NaN       6.0   \n",
       "2011-11-22      NaN    NaN    NaN          NaN     NaN     NaN       NaN   \n",
       "2011-11-23      NaN    NaN    NaN          NaN     NaN     NaN       NaN   \n",
       "2011-11-24      NaN    NaN    NaN          NaN     NaN     NaN       NaN   \n",
       "2011-11-25      NaN    NaN    NaN          NaN     NaN     NaN       NaN   \n",
       "\n",
       "Country     Spain  Sweden  Switzerland  United Kingdom  Unspecified  \n",
       "datetime                                                             \n",
       "2011-11-21    NaN     NaN          NaN            95.0          NaN  \n",
       "2011-11-22    NaN    48.0          NaN           493.0          NaN  \n",
       "2011-11-23    NaN     NaN          6.0           395.0          NaN  \n",
       "2011-11-24    NaN     NaN          NaN           228.0         12.0  \n",
       "2011-11-25    NaN     NaN          NaN           371.0          NaN  "
      ]
     },
     "execution_count": 107,
     "metadata": {},
     "output_type": "execute_result"
    }
   ],
   "source": [
    "p = pd.pivot_table(train_df, index=['datetime'], columns= ['Country'], values='Quantity', aggfunc='sum')\n",
    "p.tail()"
   ]
  },
  {
   "cell_type": "code",
   "execution_count": 115,
   "metadata": {},
   "outputs": [
    {
     "name": "stderr",
     "output_type": "stream",
     "text": [
      "INFO:fbprophet:n_changepoints greater than number of observations. Using 3.\n",
      "INFO:fbprophet:n_changepoints greater than number of observations. Using 7.\n",
      "INFO:fbprophet:n_changepoints greater than number of observations. Using 0.\n",
      "INFO:fbprophet:n_changepoints greater than number of observations. Using 4.\n",
      "INFO:fbprophet:n_changepoints greater than number of observations. Using 1.\n",
      "INFO:fbprophet:n_changepoints greater than number of observations. Using 12.\n",
      "INFO:fbprophet:n_changepoints greater than number of observations. Using 0.\n",
      "INFO:fbprophet:n_changepoints greater than number of observations. Using 0.\n",
      "INFO:fbprophet:n_changepoints greater than number of observations. Using 1.\n",
      "INFO:fbprophet:n_changepoints greater than number of observations. Using 3.\n",
      "INFO:fbprophet:n_changepoints greater than number of observations. Using 0.\n",
      "INFO:fbprophet:n_changepoints greater than number of observations. Using 0.\n",
      "INFO:fbprophet:n_changepoints greater than number of observations. Using 2.\n",
      "INFO:fbprophet:n_changepoints greater than number of observations. Using 0.\n",
      "INFO:fbprophet:n_changepoints greater than number of observations. Using 0.\n"
     ]
    }
   ],
   "source": [
    "data = {'Date': test_period}\n",
    "\n",
    "for country in p.columns:\n",
    "    try:\n",
    "        x = pd.DataFrame({\"ds\": p.index, \"y\": p[country].values})            \n",
    "        model = Prophet(yearly_seasonality=False, daily_seasonality=True, weekly_seasonality=False)\n",
    "        model.fit(x)\n",
    "        pred = model.predict(pd.DataFrame({\"ds\":test_period}))\n",
    "        data[country] = pred['yhat'].values\n",
    "    except:\n",
    "        data[country] = [0] * len(test_period)\n",
    "pd.DataFrame(data).to_csv(\"./results/23084.csv\")"
   ]
  },
  {
   "cell_type": "markdown",
   "metadata": {},
   "source": [
    "# Part 3: Comparing with Out of Sample "
   ]
  },
  {
   "cell_type": "code",
   "execution_count": 130,
   "metadata": {},
   "outputs": [],
   "source": [
    "select = (df['datetime'] >= \"11/27/11\") & (df['datetime'] <= \"12/3/11\")\n",
    "\n",
    "test_df = df[select]"
   ]
  },
  {
   "cell_type": "markdown",
   "metadata": {},
   "source": [
    "### Evaluating Forecast for Item 23084"
   ]
  },
  {
   "cell_type": "code",
   "execution_count": 131,
   "metadata": {},
   "outputs": [
    {
     "data": {
      "text/plain": [
       "datetime\n",
       "2011-11-27     317\n",
       "2011-11-28     381\n",
       "2011-11-29    2565\n",
       "2011-11-30     408\n",
       "2011-12-01     593\n",
       "2011-12-02     325\n",
       "Name: Quantity, dtype: int64"
      ]
     },
     "execution_count": 131,
     "metadata": {},
     "output_type": "execute_result"
    }
   ],
   "source": [
    "test_df_stockcode = test_df[test_df['StockCode'] == '23084'].groupby('datetime')['Quantity'].sum()\n",
    "test_df_stockcode"
   ]
  },
  {
   "cell_type": "code",
   "execution_count": 132,
   "metadata": {},
   "outputs": [
    {
     "data": {
      "text/plain": [
       "0    3259.029853\n",
       "1    3273.379789\n",
       "2    3287.729724\n",
       "3    3302.079660\n",
       "4    3316.429595\n",
       "5    3330.779531\n",
       "6    3345.129466\n",
       "dtype: float64"
      ]
     },
     "execution_count": 132,
     "metadata": {},
     "output_type": "execute_result"
    }
   ],
   "source": [
    "pred23084 = pd.read_csv(\"results/23084.csv\").drop(['Unnamed: 0'], axis=1).sum(axis=1)\n",
    "pred23084"
   ]
  },
  {
   "cell_type": "markdown",
   "metadata": {},
   "source": [
    "### Evaluating Forecast for Item 22197"
   ]
  },
  {
   "cell_type": "code",
   "execution_count": 143,
   "metadata": {},
   "outputs": [
    {
     "data": {
      "text/plain": [
       "datetime\n",
       "2011-11-27      41\n",
       "2011-11-28      32\n",
       "2011-11-29     105\n",
       "2011-11-30      72\n",
       "2011-12-01      67\n",
       "2011-12-02    1534\n",
       "Name: Quantity, dtype: int64"
      ]
     },
     "execution_count": 143,
     "metadata": {},
     "output_type": "execute_result"
    }
   ],
   "source": [
    "test_df_stockcode = test_df[test_df['StockCode'] == '22197'].groupby('datetime')['Quantity'].sum()\n",
    "test_df_stockcode"
   ]
  },
  {
   "cell_type": "code",
   "execution_count": 144,
   "metadata": {},
   "outputs": [
    {
     "data": {
      "text/plain": [
       "0    -886.784887\n",
       "1   -1033.976095\n",
       "2   -1196.865489\n",
       "3   -1371.197387\n",
       "4   -1552.260164\n",
       "5   -1734.994797\n",
       "dtype: float64"
      ]
     },
     "execution_count": 144,
     "metadata": {},
     "output_type": "execute_result"
    }
   ],
   "source": [
    "pred23084 = pd.read_csv(\"results/22197.csv\").drop(['Unnamed: 0'], axis=1).sum(axis=1)\n",
    "pred23084"
   ]
  },
  {
   "cell_type": "markdown",
   "metadata": {},
   "source": [
    "### Evaluating Forecast for Item 23582"
   ]
  },
  {
   "cell_type": "code",
   "execution_count": 145,
   "metadata": {},
   "outputs": [
    {
     "data": {
      "text/plain": [
       "datetime\n",
       "2011-11-27      41\n",
       "2011-11-28      32\n",
       "2011-11-29     105\n",
       "2011-11-30      72\n",
       "2011-12-01      67\n",
       "2011-12-02    1534\n",
       "Name: Quantity, dtype: int64"
      ]
     },
     "execution_count": 145,
     "metadata": {},
     "output_type": "execute_result"
    }
   ],
   "source": [
    "test_df_stockcode = test_df[test_df['StockCode'] == '23582'].groupby('datetime')['Quantity'].sum()\n",
    "test_df_stockcode"
   ]
  },
  {
   "cell_type": "code",
   "execution_count": 151,
   "metadata": {},
   "outputs": [
    {
     "data": {
      "text/plain": [
       "0   -291.623421\n",
       "1    338.560982\n",
       "2    199.536873\n",
       "3    332.973723\n",
       "4    419.051556\n",
       "5    397.751063\n",
       "dtype: float64"
      ]
     },
     "execution_count": 151,
     "metadata": {},
     "output_type": "execute_result"
    }
   ],
   "source": [
    "pred23084 = pd.read_csv(\"results/23582.csv\").drop(['Unnamed: 0'], axis=1).sum(axis=1)\n",
    "pred23084"
   ]
  },
  {
   "cell_type": "code",
   "execution_count": null,
   "metadata": {},
   "outputs": [],
   "source": []
  }
 ],
 "metadata": {
  "kernelspec": {
   "display_name": "Python 3",
   "language": "python",
   "name": "python3"
  },
  "language_info": {
   "codemirror_mode": {
    "name": "ipython",
    "version": 3
   },
   "file_extension": ".py",
   "mimetype": "text/x-python",
   "name": "python",
   "nbconvert_exporter": "python",
   "pygments_lexer": "ipython3",
   "version": "3.8.3"
  }
 },
 "nbformat": 4,
 "nbformat_minor": 4
}
