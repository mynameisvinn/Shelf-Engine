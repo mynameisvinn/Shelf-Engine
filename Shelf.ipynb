{
 "cells": [
  {
   "cell_type": "markdown",
   "metadata": {},
   "source": [
    "# Part 1: Identifying \"Top Selling\" Items\n",
    "We define top selling items as items which had the greatest total sales over this week across all countries."
   ]
  },
  {
   "cell_type": "code",
   "execution_count": 4,
   "metadata": {},
   "outputs": [],
   "source": [
    "import pandas as pd\n",
    "import time\n",
    "import datetime\n",
    "import numpy as np\n",
    "import matplotlib.pyplot as plt\n",
    "%matplotlib inline"
   ]
  },
  {
   "cell_type": "code",
   "execution_count": 5,
   "metadata": {},
   "outputs": [
    {
     "data": {
      "text/plain": [
       "(541909, 8)"
      ]
     },
     "execution_count": 5,
     "metadata": {},
     "output_type": "execute_result"
    }
   ],
   "source": [
    "df = pd.read_csv(\"Online Retail.csv\", encoding = \"ISO-8859-1\")\n",
    "df.shape"
   ]
  },
  {
   "cell_type": "code",
   "execution_count": 6,
   "metadata": {},
   "outputs": [
    {
     "name": "stdout",
     "output_type": "stream",
     "text": [
      "number of cancelled invoices:  0\n"
     ]
    }
   ],
   "source": [
    "# remove cancelled invoices, which are invoices where InvoiceNo starts with the letter \"c\"\n",
    "df['cancelled'] = df.apply(lambda row: str(row.InvoiceNo)[0] == \"c\", axis = 1) \n",
    "print(\"number of cancelled invoices: \", np.sum(df['cancelled']))"
   ]
  },
  {
   "cell_type": "code",
   "execution_count": 7,
   "metadata": {},
   "outputs": [
    {
     "data": {
      "text/html": [
       "<div>\n",
       "<style scoped>\n",
       "    .dataframe tbody tr th:only-of-type {\n",
       "        vertical-align: middle;\n",
       "    }\n",
       "\n",
       "    .dataframe tbody tr th {\n",
       "        vertical-align: top;\n",
       "    }\n",
       "\n",
       "    .dataframe thead th {\n",
       "        text-align: right;\n",
       "    }\n",
       "</style>\n",
       "<table border=\"1\" class=\"dataframe\">\n",
       "  <thead>\n",
       "    <tr style=\"text-align: right;\">\n",
       "      <th></th>\n",
       "      <th>InvoiceNo</th>\n",
       "      <th>StockCode</th>\n",
       "      <th>Description</th>\n",
       "      <th>Quantity</th>\n",
       "      <th>InvoiceDate</th>\n",
       "      <th>UnitPrice</th>\n",
       "      <th>CustomerID</th>\n",
       "      <th>Country</th>\n",
       "      <th>cancelled</th>\n",
       "      <th>date</th>\n",
       "      <th>timestamp</th>\n",
       "    </tr>\n",
       "  </thead>\n",
       "  <tbody>\n",
       "    <tr>\n",
       "      <th>0</th>\n",
       "      <td>536365</td>\n",
       "      <td>85123A</td>\n",
       "      <td>WHITE HANGING HEART T-LIGHT HOLDER</td>\n",
       "      <td>6</td>\n",
       "      <td>12/1/10 8:26</td>\n",
       "      <td>2.55</td>\n",
       "      <td>17850.0</td>\n",
       "      <td>United Kingdom</td>\n",
       "      <td>False</td>\n",
       "      <td>12/1/10</td>\n",
       "      <td>1.291180e+09</td>\n",
       "    </tr>\n",
       "    <tr>\n",
       "      <th>1</th>\n",
       "      <td>536365</td>\n",
       "      <td>71053</td>\n",
       "      <td>WHITE METAL LANTERN</td>\n",
       "      <td>6</td>\n",
       "      <td>12/1/10 8:26</td>\n",
       "      <td>3.39</td>\n",
       "      <td>17850.0</td>\n",
       "      <td>United Kingdom</td>\n",
       "      <td>False</td>\n",
       "      <td>12/1/10</td>\n",
       "      <td>1.291180e+09</td>\n",
       "    </tr>\n",
       "    <tr>\n",
       "      <th>2</th>\n",
       "      <td>536365</td>\n",
       "      <td>84406B</td>\n",
       "      <td>CREAM CUPID HEARTS COAT HANGER</td>\n",
       "      <td>8</td>\n",
       "      <td>12/1/10 8:26</td>\n",
       "      <td>2.75</td>\n",
       "      <td>17850.0</td>\n",
       "      <td>United Kingdom</td>\n",
       "      <td>False</td>\n",
       "      <td>12/1/10</td>\n",
       "      <td>1.291180e+09</td>\n",
       "    </tr>\n",
       "    <tr>\n",
       "      <th>3</th>\n",
       "      <td>536365</td>\n",
       "      <td>84029G</td>\n",
       "      <td>KNITTED UNION FLAG HOT WATER BOTTLE</td>\n",
       "      <td>6</td>\n",
       "      <td>12/1/10 8:26</td>\n",
       "      <td>3.39</td>\n",
       "      <td>17850.0</td>\n",
       "      <td>United Kingdom</td>\n",
       "      <td>False</td>\n",
       "      <td>12/1/10</td>\n",
       "      <td>1.291180e+09</td>\n",
       "    </tr>\n",
       "    <tr>\n",
       "      <th>4</th>\n",
       "      <td>536365</td>\n",
       "      <td>84029E</td>\n",
       "      <td>RED WOOLLY HOTTIE WHITE HEART.</td>\n",
       "      <td>6</td>\n",
       "      <td>12/1/10 8:26</td>\n",
       "      <td>3.39</td>\n",
       "      <td>17850.0</td>\n",
       "      <td>United Kingdom</td>\n",
       "      <td>False</td>\n",
       "      <td>12/1/10</td>\n",
       "      <td>1.291180e+09</td>\n",
       "    </tr>\n",
       "  </tbody>\n",
       "</table>\n",
       "</div>"
      ],
      "text/plain": [
       "  InvoiceNo StockCode                          Description  Quantity  \\\n",
       "0    536365    85123A   WHITE HANGING HEART T-LIGHT HOLDER         6   \n",
       "1    536365     71053                  WHITE METAL LANTERN         6   \n",
       "2    536365    84406B       CREAM CUPID HEARTS COAT HANGER         8   \n",
       "3    536365    84029G  KNITTED UNION FLAG HOT WATER BOTTLE         6   \n",
       "4    536365    84029E       RED WOOLLY HOTTIE WHITE HEART.         6   \n",
       "\n",
       "    InvoiceDate  UnitPrice  CustomerID         Country  cancelled     date  \\\n",
       "0  12/1/10 8:26       2.55     17850.0  United Kingdom      False  12/1/10   \n",
       "1  12/1/10 8:26       3.39     17850.0  United Kingdom      False  12/1/10   \n",
       "2  12/1/10 8:26       2.75     17850.0  United Kingdom      False  12/1/10   \n",
       "3  12/1/10 8:26       3.39     17850.0  United Kingdom      False  12/1/10   \n",
       "4  12/1/10 8:26       3.39     17850.0  United Kingdom      False  12/1/10   \n",
       "\n",
       "      timestamp  \n",
       "0  1.291180e+09  \n",
       "1  1.291180e+09  \n",
       "2  1.291180e+09  \n",
       "3  1.291180e+09  \n",
       "4  1.291180e+09  "
      ]
     },
     "execution_count": 7,
     "metadata": {},
     "output_type": "execute_result"
    }
   ],
   "source": [
    "# create a \"data\" column so we can identify best selling items for a given range\n",
    "df[\"date\"] = df.apply(lambda row: row.InvoiceDate.split(\" \")[0], axis = 1) \n",
    "df[\"timestamp\"] = df.apply(lambda x: time.mktime(datetime.datetime.strptime(x['date'], \"%m/%d/%y\").timetuple()), axis = 1) \n",
    "df.head()"
   ]
  },
  {
   "cell_type": "code",
   "execution_count": 8,
   "metadata": {},
   "outputs": [],
   "source": [
    "# we want best selling items for thanksgiving week\n",
    "\n",
    "start = \"11/27/11\"\n",
    "end = \"12/3/11\"\n",
    "\n",
    "select = (df['timestamp'] <= time.mktime(datetime.datetime.strptime(end, \"%m/%d/%y\").timetuple())) & (df['timestamp'] >= time.mktime(datetime.datetime.strptime(start, \"%m/%d/%y\").timetuple()))\n",
    "df_small = df[select]"
   ]
  },
  {
   "cell_type": "code",
   "execution_count": 9,
   "metadata": {},
   "outputs": [
    {
     "data": {
      "text/plain": [
       "['23084', '22197', '23582']"
      ]
     },
     "execution_count": 9,
     "metadata": {},
     "output_type": "execute_result"
    }
   ],
   "source": [
    "# return a list of best sellers by stock id over that period\n",
    "best_sellers = list(df_small.groupby(\"StockCode\")['Quantity'].sum().sort_values(ascending=False)[:3].index)\n",
    "best_sellers"
   ]
  },
  {
   "cell_type": "markdown",
   "metadata": {},
   "source": [
    "# part 2 - by country\n",
    "given a stockcode id, return a dataframe of predictions by country\n",
    "\n",
    "Build a model that predicts sales quantities for the 7 days from 11/27/2011 - 12/3/2011 Sun - Sat).\n",
    "\n",
    "https://amueller.github.io/COMS4995-s18/slides/aml-25-042518-time-series/#43"
   ]
  },
  {
   "cell_type": "code",
   "execution_count": 10,
   "metadata": {},
   "outputs": [],
   "source": [
    "cutoff = \"11/27/11\"\n",
    "\n",
    "select = (df['timestamp'] <= time.mktime(datetime.datetime.strptime(cutoff, \"%m/%d/%y\").timetuple()))\n",
    "train_df = df[select]\n",
    "sorted_train_df = train_df.sort_values('timestamp')"
   ]
  },
  {
   "cell_type": "code",
   "execution_count": 11,
   "metadata": {},
   "outputs": [],
   "source": [
    "test_period = ['11/27/11', '11/28/11', '11/29/11', '11/30/11', '12/1/11', '12/2/11', '12/3/11', '12/4/11', '12/5/11', '12/6/11', '12/7/11', '12/8/11', '12/9/11', '12/10/11']"
   ]
  },
  {
   "cell_type": "code",
   "execution_count": 27,
   "metadata": {},
   "outputs": [],
   "source": [
    "import fbprophet\n",
    "from fbprophet import Prophet\n",
    "from pandas import to_datetime\n",
    "\n",
    "def make_predictions(df, stockcode_id:str, period):\n",
    "    \n",
    "    # segment by Stockcode id\n",
    "    df_23084 = df[df['StockCode'] == stockcode_id]\n",
    "\n",
    "    # fit model and make predictions\n",
    "    data = {time: period}\n",
    "    \n",
    "    countries = set(list(df_23084['Country']))\n",
    "    for country in countries:\n",
    "        print(\">>\", country, df_23084[df_23084['Country'] == country].shape)\n",
    "\n",
    "        # ignore countries that have few sales\n",
    "        if df_23084[df_23084['Country'] == country].shape[0] < 2:\n",
    "            data[country] = [0] * len(period)\n",
    "        else:\n",
    "            # segment by country: \n",
    "            df_23084_uk = df_23084[df_23084['Country'] == country]\n",
    "\n",
    "            # format data and fit model\n",
    "            x = df_23084_uk[['date', 'Quantity']]\n",
    "            x.columns = ['ds', 'y']\n",
    "            model = Prophet()\n",
    "            model.fit(x)\n",
    "\n",
    "            # make predictions\n",
    "            test = pd.DataFrame({\"ds\":period})\n",
    "            predictions = model.predict(test)\n",
    "            pred = {country: predictions['yhat'].values}\n",
    "            data[country] = pred[country]\n",
    "    return pd.DataFrame(data)"
   ]
  },
  {
   "cell_type": "code",
   "execution_count": 28,
   "metadata": {},
   "outputs": [
    {
     "name": "stderr",
     "output_type": "stream",
     "text": [
      "INFO:fbprophet:Disabling yearly seasonality. Run prophet with yearly_seasonality=True to override this.\n",
      "INFO:fbprophet:Disabling daily seasonality. Run prophet with daily_seasonality=True to override this.\n"
     ]
    },
    {
     "name": "stdout",
     "output_type": "stream",
     "text": [
      ">> Italy (1, 11)\n",
      ">> Channel Islands (1, 11)\n",
      ">> United Kingdom (192, 11)\n"
     ]
    },
    {
     "name": "stderr",
     "output_type": "stream",
     "text": [
      "INFO:fbprophet:Disabling yearly seasonality. Run prophet with yearly_seasonality=True to override this.\n",
      "INFO:fbprophet:Disabling daily seasonality. Run prophet with daily_seasonality=True to override this.\n",
      "INFO:fbprophet:n_changepoints greater than number of observations. Using 2.\n"
     ]
    },
    {
     "name": "stdout",
     "output_type": "stream",
     "text": [
      ">> France (4, 11)\n"
     ]
    },
    {
     "name": "stderr",
     "output_type": "stream",
     "text": [
      "INFO:fbprophet:Disabling yearly seasonality. Run prophet with yearly_seasonality=True to override this.\n",
      "INFO:fbprophet:Disabling weekly seasonality. Run prophet with weekly_seasonality=True to override this.\n",
      "INFO:fbprophet:Disabling daily seasonality. Run prophet with daily_seasonality=True to override this.\n",
      "INFO:fbprophet:n_changepoints greater than number of observations. Using 0.\n"
     ]
    },
    {
     "name": "stdout",
     "output_type": "stream",
     "text": [
      ">> Germany (2, 11)\n"
     ]
    },
    {
     "name": "stderr",
     "output_type": "stream",
     "text": [
      "INFO:fbprophet:Disabling yearly seasonality. Run prophet with yearly_seasonality=True to override this.\n",
      "INFO:fbprophet:Disabling weekly seasonality. Run prophet with weekly_seasonality=True to override this.\n",
      "INFO:fbprophet:Disabling daily seasonality. Run prophet with daily_seasonality=True to override this.\n",
      "INFO:fbprophet:n_changepoints greater than number of observations. Using 0.\n"
     ]
    },
    {
     "name": "stdout",
     "output_type": "stream",
     "text": [
      ">> Portugal (2, 11)\n",
      ">> Finland (1, 11)\n",
      ">> Netherlands (1, 11)\n"
     ]
    }
   ],
   "source": [
    "p = make_predictions(sorted_train_df, stockcode_id='23582', period=test_period)"
   ]
  },
  {
   "cell_type": "code",
   "execution_count": 29,
   "metadata": {},
   "outputs": [
    {
     "data": {
      "text/html": [
       "<div>\n",
       "<style scoped>\n",
       "    .dataframe tbody tr th:only-of-type {\n",
       "        vertical-align: middle;\n",
       "    }\n",
       "\n",
       "    .dataframe tbody tr th {\n",
       "        vertical-align: top;\n",
       "    }\n",
       "\n",
       "    .dataframe thead th {\n",
       "        text-align: right;\n",
       "    }\n",
       "</style>\n",
       "<table border=\"1\" class=\"dataframe\">\n",
       "  <thead>\n",
       "    <tr style=\"text-align: right;\">\n",
       "      <th></th>\n",
       "      <th>&lt;module 'time' (built-in)&gt;</th>\n",
       "      <th>Italy</th>\n",
       "      <th>Channel Islands</th>\n",
       "      <th>United Kingdom</th>\n",
       "      <th>France</th>\n",
       "      <th>Germany</th>\n",
       "      <th>Portugal</th>\n",
       "      <th>Finland</th>\n",
       "      <th>Netherlands</th>\n",
       "    </tr>\n",
       "  </thead>\n",
       "  <tbody>\n",
       "    <tr>\n",
       "      <th>0</th>\n",
       "      <td>11/27/11</td>\n",
       "      <td>0</td>\n",
       "      <td>0</td>\n",
       "      <td>2.528192</td>\n",
       "      <td>-9.874980</td>\n",
       "      <td>10.0</td>\n",
       "      <td>5.384615</td>\n",
       "      <td>0</td>\n",
       "      <td>0</td>\n",
       "    </tr>\n",
       "    <tr>\n",
       "      <th>1</th>\n",
       "      <td>11/28/11</td>\n",
       "      <td>0</td>\n",
       "      <td>0</td>\n",
       "      <td>22.718173</td>\n",
       "      <td>-7.915490</td>\n",
       "      <td>10.0</td>\n",
       "      <td>3.846154</td>\n",
       "      <td>0</td>\n",
       "      <td>0</td>\n",
       "    </tr>\n",
       "    <tr>\n",
       "      <th>2</th>\n",
       "      <td>11/29/11</td>\n",
       "      <td>0</td>\n",
       "      <td>0</td>\n",
       "      <td>2.596520</td>\n",
       "      <td>-10.724030</td>\n",
       "      <td>10.0</td>\n",
       "      <td>2.307692</td>\n",
       "      <td>0</td>\n",
       "      <td>0</td>\n",
       "    </tr>\n",
       "    <tr>\n",
       "      <th>3</th>\n",
       "      <td>11/30/11</td>\n",
       "      <td>0</td>\n",
       "      <td>0</td>\n",
       "      <td>9.095039</td>\n",
       "      <td>-11.148556</td>\n",
       "      <td>10.0</td>\n",
       "      <td>0.769231</td>\n",
       "      <td>0</td>\n",
       "      <td>0</td>\n",
       "    </tr>\n",
       "    <tr>\n",
       "      <th>4</th>\n",
       "      <td>12/1/11</td>\n",
       "      <td>0</td>\n",
       "      <td>0</td>\n",
       "      <td>5.046209</td>\n",
       "      <td>5.389838</td>\n",
       "      <td>10.0</td>\n",
       "      <td>-0.769231</td>\n",
       "      <td>0</td>\n",
       "      <td>0</td>\n",
       "    </tr>\n",
       "    <tr>\n",
       "      <th>5</th>\n",
       "      <td>12/2/11</td>\n",
       "      <td>0</td>\n",
       "      <td>0</td>\n",
       "      <td>4.460591</td>\n",
       "      <td>-11.997606</td>\n",
       "      <td>10.0</td>\n",
       "      <td>-2.307692</td>\n",
       "      <td>0</td>\n",
       "      <td>0</td>\n",
       "    </tr>\n",
       "    <tr>\n",
       "      <th>6</th>\n",
       "      <td>12/3/11</td>\n",
       "      <td>0</td>\n",
       "      <td>0</td>\n",
       "      <td>2.842135</td>\n",
       "      <td>-12.422131</td>\n",
       "      <td>10.0</td>\n",
       "      <td>-3.846154</td>\n",
       "      <td>0</td>\n",
       "      <td>0</td>\n",
       "    </tr>\n",
       "    <tr>\n",
       "      <th>7</th>\n",
       "      <td>12/4/11</td>\n",
       "      <td>0</td>\n",
       "      <td>0</td>\n",
       "      <td>0.636192</td>\n",
       "      <td>-12.846657</td>\n",
       "      <td>10.0</td>\n",
       "      <td>-5.384615</td>\n",
       "      <td>0</td>\n",
       "      <td>0</td>\n",
       "    </tr>\n",
       "    <tr>\n",
       "      <th>8</th>\n",
       "      <td>12/5/11</td>\n",
       "      <td>0</td>\n",
       "      <td>0</td>\n",
       "      <td>20.826173</td>\n",
       "      <td>-10.887167</td>\n",
       "      <td>10.0</td>\n",
       "      <td>-6.923077</td>\n",
       "      <td>0</td>\n",
       "      <td>0</td>\n",
       "    </tr>\n",
       "    <tr>\n",
       "      <th>9</th>\n",
       "      <td>12/6/11</td>\n",
       "      <td>0</td>\n",
       "      <td>0</td>\n",
       "      <td>0.704519</td>\n",
       "      <td>-13.695707</td>\n",
       "      <td>10.0</td>\n",
       "      <td>-8.461538</td>\n",
       "      <td>0</td>\n",
       "      <td>0</td>\n",
       "    </tr>\n",
       "    <tr>\n",
       "      <th>10</th>\n",
       "      <td>12/7/11</td>\n",
       "      <td>0</td>\n",
       "      <td>0</td>\n",
       "      <td>7.203039</td>\n",
       "      <td>-14.120232</td>\n",
       "      <td>10.0</td>\n",
       "      <td>-10.000000</td>\n",
       "      <td>0</td>\n",
       "      <td>0</td>\n",
       "    </tr>\n",
       "    <tr>\n",
       "      <th>11</th>\n",
       "      <td>12/8/11</td>\n",
       "      <td>0</td>\n",
       "      <td>0</td>\n",
       "      <td>3.154208</td>\n",
       "      <td>2.418161</td>\n",
       "      <td>10.0</td>\n",
       "      <td>-11.538462</td>\n",
       "      <td>0</td>\n",
       "      <td>0</td>\n",
       "    </tr>\n",
       "    <tr>\n",
       "      <th>12</th>\n",
       "      <td>12/9/11</td>\n",
       "      <td>0</td>\n",
       "      <td>0</td>\n",
       "      <td>2.568590</td>\n",
       "      <td>-14.969283</td>\n",
       "      <td>10.0</td>\n",
       "      <td>-13.076923</td>\n",
       "      <td>0</td>\n",
       "      <td>0</td>\n",
       "    </tr>\n",
       "    <tr>\n",
       "      <th>13</th>\n",
       "      <td>12/10/11</td>\n",
       "      <td>0</td>\n",
       "      <td>0</td>\n",
       "      <td>0.950134</td>\n",
       "      <td>-15.393808</td>\n",
       "      <td>10.0</td>\n",
       "      <td>-14.615385</td>\n",
       "      <td>0</td>\n",
       "      <td>0</td>\n",
       "    </tr>\n",
       "  </tbody>\n",
       "</table>\n",
       "</div>"
      ],
      "text/plain": [
       "   <module 'time' (built-in)>  Italy  Channel Islands  United Kingdom  \\\n",
       "0                    11/27/11      0                0        2.528192   \n",
       "1                    11/28/11      0                0       22.718173   \n",
       "2                    11/29/11      0                0        2.596520   \n",
       "3                    11/30/11      0                0        9.095039   \n",
       "4                     12/1/11      0                0        5.046209   \n",
       "5                     12/2/11      0                0        4.460591   \n",
       "6                     12/3/11      0                0        2.842135   \n",
       "7                     12/4/11      0                0        0.636192   \n",
       "8                     12/5/11      0                0       20.826173   \n",
       "9                     12/6/11      0                0        0.704519   \n",
       "10                    12/7/11      0                0        7.203039   \n",
       "11                    12/8/11      0                0        3.154208   \n",
       "12                    12/9/11      0                0        2.568590   \n",
       "13                   12/10/11      0                0        0.950134   \n",
       "\n",
       "       France  Germany   Portugal  Finland  Netherlands  \n",
       "0   -9.874980     10.0   5.384615        0            0  \n",
       "1   -7.915490     10.0   3.846154        0            0  \n",
       "2  -10.724030     10.0   2.307692        0            0  \n",
       "3  -11.148556     10.0   0.769231        0            0  \n",
       "4    5.389838     10.0  -0.769231        0            0  \n",
       "5  -11.997606     10.0  -2.307692        0            0  \n",
       "6  -12.422131     10.0  -3.846154        0            0  \n",
       "7  -12.846657     10.0  -5.384615        0            0  \n",
       "8  -10.887167     10.0  -6.923077        0            0  \n",
       "9  -13.695707     10.0  -8.461538        0            0  \n",
       "10 -14.120232     10.0 -10.000000        0            0  \n",
       "11   2.418161     10.0 -11.538462        0            0  \n",
       "12 -14.969283     10.0 -13.076923        0            0  \n",
       "13 -15.393808     10.0 -14.615385        0            0  "
      ]
     },
     "execution_count": 29,
     "metadata": {},
     "output_type": "execute_result"
    }
   ],
   "source": [
    "p"
   ]
  },
  {
   "cell_type": "code",
   "execution_count": null,
   "metadata": {},
   "outputs": [],
   "source": []
  }
 ],
 "metadata": {
  "kernelspec": {
   "display_name": "Python 3",
   "language": "python",
   "name": "python3"
  },
  "language_info": {
   "codemirror_mode": {
    "name": "ipython",
    "version": 3
   },
   "file_extension": ".py",
   "mimetype": "text/x-python",
   "name": "python",
   "nbconvert_exporter": "python",
   "pygments_lexer": "ipython3",
   "version": "3.8.3"
  }
 },
 "nbformat": 4,
 "nbformat_minor": 4
}
